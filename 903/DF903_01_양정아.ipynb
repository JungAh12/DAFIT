{
 "cells": [
  {
   "cell_type": "code",
   "execution_count": 1,
   "metadata": {},
   "outputs": [],
   "source": [
    "import os\n",
    "import shutil"
   ]
  },
  {
   "cell_type": "code",
   "execution_count": 2,
   "metadata": {},
   "outputs": [],
   "source": [
    "f = open(\"C:/Users/yangang/Desktop/dafit/speech_commands_v0.01/testing_list.txt\")\n",
    "s = f.readlines()\n",
    "os.makedirs('test')\n",
    "os.chdir('./test/')\n",
    "for ss in s:\n",
    "    ss = ss.rstrip().split('/')\n",
    "    \n",
    "    if not(os.path.isdir(ss[0])):\n",
    "        os.makedirs(os.path.join(ss[0]))\n",
    "    "
   ]
  },
  {
   "cell_type": "code",
   "execution_count": 4,
   "metadata": {},
   "outputs": [],
   "source": [
    "os.chdir('C:/Users/yangang/Desktop/dafit/speech_commands_v0.01/')\n",
    "for ss in s:\n",
    "    ss = ss.rstrip().split('/')\n",
    "    shutil.move('./'+ss[0]+'/'+ss[1],'./test/'+ss[0]+'/'+ss[1])"
   ]
  },
  {
   "cell_type": "code",
   "execution_count": 5,
   "metadata": {},
   "outputs": [],
   "source": [
    "os.makedirs('valid')\n",
    "os.makedirs('train')\n",
    "os.chdir('./valid/')\n",
    "for ss in s:\n",
    "    ss = ss.rstrip().split('/')\n",
    "    \n",
    "    if not(os.path.isdir(ss[0])):\n",
    "        os.makedirs(os.path.join(ss[0]))"
   ]
  },
  {
   "cell_type": "code",
   "execution_count": 7,
   "metadata": {},
   "outputs": [],
   "source": [
    "f = open(\"C:/Users/yangang/Desktop/dafit/speech_commands_v0.01/validation_list.txt\")\n",
    "s = f.readlines()\n",
    "os.chdir('C:/Users/yangang/Desktop/dafit/speech_commands_v0.01/')\n",
    "for ss in s:\n",
    "    ss = ss.rstrip().split('/')\n",
    "    shutil.move('./'+ss[0]+'/'+ss[1],'./valid/'+ss[0]+'/'+ss[1])"
   ]
  },
  {
   "cell_type": "code",
   "execution_count": 12,
   "metadata": {},
   "outputs": [],
   "source": [
    "for ss in s:\n",
    "    ss = ss.rstrip().split('/')\n",
    "    if (os.path.isdir(ss[0])):\n",
    "        shutil.move('./'+ss[0],'./train/'+ss[0])"
   ]
  },
  {
   "cell_type": "code",
   "execution_count": null,
   "metadata": {},
   "outputs": [],
   "source": []
  }
 ],
 "metadata": {
  "kernelspec": {
   "display_name": "dafit",
   "language": "python",
   "name": "dafit"
  },
  "language_info": {
   "codemirror_mode": {
    "name": "ipython",
    "version": 3
   },
   "file_extension": ".py",
   "mimetype": "text/x-python",
   "name": "python",
   "nbconvert_exporter": "python",
   "pygments_lexer": "ipython3",
   "version": "3.7.4"
  }
 },
 "nbformat": 4,
 "nbformat_minor": 4
}
