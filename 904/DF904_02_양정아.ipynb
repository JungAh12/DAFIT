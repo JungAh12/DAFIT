{
 "cells": [
  {
   "cell_type": "code",
   "execution_count": 41,
   "metadata": {},
   "outputs": [],
   "source": [
    "from konlpy.tag import Kkma\n",
    "import xml.etree.ElementTree as elemTree"
   ]
  },
  {
   "cell_type": "code",
   "execution_count": 53,
   "metadata": {},
   "outputs": [],
   "source": [
    "tree = elemTree.parse('./kowiki-20190620-abstract.xml') ##읽을 xml file"
   ]
  },
  {
   "cell_type": "code",
   "execution_count": 55,
   "metadata": {},
   "outputs": [],
   "source": [
    "root = tree.getroot()  ## root tag를 찾고"
   ]
  },
  {
   "cell_type": "code",
   "execution_count": 76,
   "metadata": {},
   "outputs": [],
   "source": [
    "list_ab = []\n",
    "## 파일 내 abstract라는 태그를 찾아서 내용을 list_ab에 저장한다.\n",
    "\n",
    "for abstract in root.iter(\"abstract\"):\n",
    "    list_ab.append(abstract.text)\n",
    "    if len(list_ab) == 100:\n",
    "        break"
   ]
  },
  {
   "cell_type": "code",
   "execution_count": null,
   "metadata": {},
   "outputs": [],
   "source": []
  },
  {
   "cell_type": "code",
   "execution_count": 77,
   "metadata": {},
   "outputs": [],
   "source": [
    "kkma = Kkma()"
   ]
  },
  {
   "cell_type": "code",
   "execution_count": 78,
   "metadata": {},
   "outputs": [],
   "source": [
    "with open(\"./DF904_02_양정아.txt\", mode='wb') as output:\n",
    "    for content in list_ab:\n",
    "        for morph in kkma.pos(content): ## 튜플 형태로 나타남(단어,POStag)\n",
    "            ## 텍스트 파일 쓰기\n",
    "            data = morph[0]+'/'+morph[1]+' '\n",
    "            data = data.encode(\"utf-8\")\n",
    "            output.write(data)\n",
    "        output.write('\\n'.encode(\"utf-8\"))"
   ]
  },
  {
   "cell_type": "code",
   "execution_count": 74,
   "metadata": {},
   "outputs": [],
   "source": []
  },
  {
   "cell_type": "code",
   "execution_count": null,
   "metadata": {},
   "outputs": [],
   "source": []
  }
 ],
 "metadata": {
  "kernelspec": {
   "display_name": "dafit",
   "language": "python",
   "name": "dafit"
  },
  "language_info": {
   "codemirror_mode": {
    "name": "ipython",
    "version": 3
   },
   "file_extension": ".py",
   "mimetype": "text/x-python",
   "name": "python",
   "nbconvert_exporter": "python",
   "pygments_lexer": "ipython3",
   "version": "3.7.4"
  }
 },
 "nbformat": 4,
 "nbformat_minor": 4
}
