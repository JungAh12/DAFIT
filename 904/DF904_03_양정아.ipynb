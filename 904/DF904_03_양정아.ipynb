{
 "cells": [
  {
   "cell_type": "code",
   "execution_count": 23,
   "metadata": {},
   "outputs": [],
   "source": [
    "vocab = {}\n",
    "\n",
    "with open('.\\DF904_02_양정아.txt', mode='r', encoding='utf-8') as output:\n",
    "    # 형태소/tag로 구성\n",
    "    id = 0\n",
    "    for opline in output.readlines():\n",
    "        for token in opline.rstrip().split(' '):\n",
    "            if token in vocab.keys():\n",
    "                vocab[token] = vocab[token]+1\n",
    "            else:\n",
    "                vocab[token] = 1\n",
    "            "
   ]
  },
  {
   "cell_type": "code",
   "execution_count": 24,
   "metadata": {},
   "outputs": [],
   "source": [
    "vocab = sorted(vocab.items(), key=lambda x: x[1])"
   ]
  },
  {
   "cell_type": "code",
   "execution_count": 26,
   "metadata": {},
   "outputs": [],
   "source": [
    "vocab2 = {}\n",
    "id = 0\n",
    "for tup in vocab:\n",
    "    token = tup[0]\n",
    "    vocab2[token] = id\n",
    "    id+=1"
   ]
  },
  {
   "cell_type": "code",
   "execution_count": null,
   "metadata": {},
   "outputs": [],
   "source": []
  },
  {
   "cell_type": "code",
   "execution_count": 33,
   "metadata": {},
   "outputs": [],
   "source": [
    "with open('.\\DF904_03_양정아.txt', mode='w', encoding='utf-8') as output:\n",
    "    with open('.\\DF904_02_양정아.txt', mode='r', encoding='utf-8') as readoutput:\n",
    "        for opline in readoutput.readlines():\n",
    "            for token in opline.rstrip().split(' '):\n",
    "                output.write(str(vocab2[token])+', ')\n",
    "        "
   ]
  },
  {
   "cell_type": "code",
   "execution_count": null,
   "metadata": {},
   "outputs": [],
   "source": []
  }
 ],
 "metadata": {
  "kernelspec": {
   "display_name": "dafit",
   "language": "python",
   "name": "dafit"
  },
  "language_info": {
   "codemirror_mode": {
    "name": "ipython",
    "version": 3
   },
   "file_extension": ".py",
   "mimetype": "text/x-python",
   "name": "python",
   "nbconvert_exporter": "python",
   "pygments_lexer": "ipython3",
   "version": "3.7.4"
  }
 },
 "nbformat": 4,
 "nbformat_minor": 4
}
