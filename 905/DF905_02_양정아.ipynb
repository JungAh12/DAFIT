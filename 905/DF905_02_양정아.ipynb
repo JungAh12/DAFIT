{
 "cells": [
  {
   "cell_type": "code",
   "execution_count": 97,
   "metadata": {},
   "outputs": [],
   "source": [
    "import re"
   ]
  },
  {
   "cell_type": "code",
   "execution_count": 124,
   "metadata": {},
   "outputs": [],
   "source": [
    "testcase = [\"2019.02.30\",\"2019.06.41\",\"2019.13.30\",\"2000.00.01\",\"2019-06-06\", \"2019/06/06\", \"2019.06.06\", \"19.06.06\", \"6/6\", \"06/13\", \"06월 3일\", \"6월 23일\"]"
   ]
  },
  {
   "cell_type": "code",
   "execution_count": 140,
   "metadata": {},
   "outputs": [],
   "source": [
    "p = '[0-9]{4}[.]00[.].*|[0-9]{4}[.]1[3-9].*|[0-9]{4}[.][2-9][0-9].*|\\\n",
    "     [0-9]{4}[.][0-9]{3,}.*|[0-9]{4}[.].*[.]00|\\\n",
    "     [0-9]{4}[.]0?2[.]29|[0-9]{4}[.]0?2[.][3-9][0-9]|[0-9]{4}[.]0?2[.][0-9]{3,}|\\\n",
    "     [0-9]{4}[.].*[.]3[2-9]|[0-9]{4}[.].*[.][4-9][0-9]|[0-9]{4}[.].*[.][0-9]{3,}'\n",
    "\n",
    "p = re.compile(p)"
   ]
  },
  {
   "cell_type": "code",
   "execution_count": 141,
   "metadata": {},
   "outputs": [],
   "source": [
    "result=[]\n",
    "for idx in range(len(testcase)):\n",
    "    case = testcase[idx]\n",
    "    m = p.match(case)\n",
    "    if m:\n",
    "        result.append(m.group())\n",
    "    else:\n",
    "        result.append(\"REPLACEDATE\")"
   ]
  },
  {
   "cell_type": "code",
   "execution_count": 142,
   "metadata": {},
   "outputs": [
    {
     "data": {
      "text/plain": [
       "['2019.02.30',\n",
       " '2019.06.41',\n",
       " '2019.13.30',\n",
       " '2000.00.01',\n",
       " 'REPLACEDATE',\n",
       " 'REPLACEDATE',\n",
       " 'REPLACEDATE',\n",
       " 'REPLACEDATE',\n",
       " 'REPLACEDATE',\n",
       " 'REPLACEDATE',\n",
       " 'REPLACEDATE',\n",
       " 'REPLACEDATE']"
      ]
     },
     "execution_count": 142,
     "metadata": {},
     "output_type": "execute_result"
    }
   ],
   "source": [
    "result"
   ]
  },
  {
   "cell_type": "code",
   "execution_count": null,
   "metadata": {},
   "outputs": [],
   "source": []
  }
 ],
 "metadata": {
  "kernelspec": {
   "display_name": "dafit",
   "language": "python",
   "name": "dafit"
  },
  "language_info": {
   "codemirror_mode": {
    "name": "ipython",
    "version": 3
   },
   "file_extension": ".py",
   "mimetype": "text/x-python",
   "name": "python",
   "nbconvert_exporter": "python",
   "pygments_lexer": "ipython3",
   "version": "3.7.4"
  }
 },
 "nbformat": 4,
 "nbformat_minor": 2
}
