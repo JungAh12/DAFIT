{
 "cells": [
  {
   "cell_type": "code",
   "execution_count": 320,
   "metadata": {},
   "outputs": [],
   "source": [
    "import re"
   ]
  },
  {
   "cell_type": "code",
   "execution_count": 321,
   "metadata": {},
   "outputs": [],
   "source": [
    "downtown = re.compile('^[3-9]?[0-9]{3}-[0-9]{4}(?![0-9]|-)')\n",
    "seoul = re.compile('02-[3-9]?[0-9]{3}-[0-9]{4}(?![0-9]|-)')\n",
    "etc = re.compile('0[3-9][0-9]-[3-9]?[0-9]{3}-[0-9]{4}(?![0-9]|-)')\n"
   ]
  },
  {
   "cell_type": "code",
   "execution_count": 331,
   "metadata": {},
   "outputs": [],
   "source": [
    "testcase = [\"4411-8848\",\"210-7979\",\"02-210-2929\",\"02 290-2100\",\n",
    "            \"031-210-2929\",\"031-2210-2929\",\"021-310-2929\",\"210-999\",\"2109-999\",\"030-3333-3333\"]"
   ]
  },
  {
   "cell_type": "code",
   "execution_count": 332,
   "metadata": {},
   "outputs": [],
   "source": [
    "for idx in range(len(testcase)):\n",
    "    rd = downtown.match(testcase[idx])  #시내번호 체크\n",
    "    rs = seoul.match(testcase[idx])     #서울번호 체크\n",
    "    re = etc.match(testcase[idx])       #기타번호 체크\n",
    "    #정규표현식에 맞지 않으면 None return하기때문에 if문으로 체크가능 (if None == if False)\n",
    "    if rd:\n",
    "        testcase[idx] = \"REPLACEPHONE\"\n",
    "    if rs:\n",
    "        testcase[idx] = \"REPLACEPHONE\"\n",
    "    if re:\n",
    "        testcase[idx] = \"REPLACEPHONE\""
   ]
  },
  {
   "cell_type": "code",
   "execution_count": 333,
   "metadata": {},
   "outputs": [
    {
     "data": {
      "text/plain": [
       "['REPLACEPHONE',\n",
       " 'REPLACEPHONE',\n",
       " 'REPLACEPHONE',\n",
       " '02 290-2100',\n",
       " 'REPLACEPHONE',\n",
       " '031-2210-2929',\n",
       " '021-310-2929',\n",
       " '210-999',\n",
       " '2109-999',\n",
       " 'REPLACEPHONE']"
      ]
     },
     "execution_count": 333,
     "metadata": {},
     "output_type": "execute_result"
    }
   ],
   "source": [
    "testcase"
   ]
  },
  {
   "cell_type": "code",
   "execution_count": null,
   "metadata": {},
   "outputs": [],
   "source": []
  }
 ],
 "metadata": {
  "kernelspec": {
   "display_name": "dafit",
   "language": "python",
   "name": "dafit"
  },
  "language_info": {
   "codemirror_mode": {
    "name": "ipython",
    "version": 3
   },
   "file_extension": ".py",
   "mimetype": "text/x-python",
   "name": "python",
   "nbconvert_exporter": "python",
   "pygments_lexer": "ipython3",
   "version": "3.7.4"
  }
 },
 "nbformat": 4,
 "nbformat_minor": 2
}
