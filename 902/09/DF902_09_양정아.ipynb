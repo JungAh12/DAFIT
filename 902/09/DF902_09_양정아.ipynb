{
 "cells": [
  {
   "cell_type": "markdown",
   "metadata": {},
   "source": [
    "# Q.9\n",
    "### 1~8번 문제 해결과정을 종합적으로 고려하여, 프로젝트의 결론을 서술하시오.\n",
    "\n",
    "A. 딥러닝으로 은하를 분류할 때, 색보다는 모양이 은하를 분류하는데 큰 영향을 끼치는 feature이기 떄문에 grayscale로 처리해도 성공적으로 분류할 수 있으며 classification 문제에서는 softmax를 사용하여 각 카테고리의 확률 값으로 output을 처리함으로써 예측을 할 수 있었다. image를 사용하는 model은 CNN 계열이 효과가 좋으며 레이어를 깊게 쌓으면서 overfitting을 막을 수 있게 dropout을 적용하면 더욱 결과가 좋았다.\n",
    "\n",
    "# Q.10\n",
    "### 추후 어떤 학습 방향을 설정해야 할지 스스로 판단하시오.\n",
    "\n",
    "A. image 분석 외의 분야에서의 딥러닝 사용이나 여러 딥러닝 모델의 종류에 대해서 학습하고 싶다."
   ]
  }
 ],
 "metadata": {
  "kernelspec": {
   "display_name": "dafit",
   "language": "python",
   "name": "dafit"
  },
  "language_info": {
   "codemirror_mode": {
    "name": "ipython",
    "version": 3
   },
   "file_extension": ".py",
   "mimetype": "text/x-python",
   "name": "python",
   "nbconvert_exporter": "python",
   "pygments_lexer": "ipython3",
   "version": "3.7.4"
  }
 },
 "nbformat": 4,
 "nbformat_minor": 4
}
