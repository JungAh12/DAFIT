{
 "cells": [
  {
   "cell_type": "code",
   "execution_count": 1,
   "metadata": {},
   "outputs": [
    {
     "name": "stderr",
     "output_type": "stream",
     "text": [
      "Using TensorFlow backend.\n"
     ]
    }
   ],
   "source": [
    "import numpy as np\n",
    "from keras.models import Sequential\n",
    "from keras.layers import Dense\n",
    "from keras.layers.convolutional import Conv2D\n",
    "from keras.layers.convolutional import MaxPooling2D\n",
    "from keras.layers import Flatten\n",
    "from keras.preprocessing.image import ImageDataGenerator\n",
    "import keras.backend.tensorflow_backend as K\n",
    "from tensorflow.python.client import device_lib"
   ]
  },
  {
   "cell_type": "code",
   "execution_count": 2,
   "metadata": {},
   "outputs": [
    {
     "name": "stdout",
     "output_type": "stream",
     "text": [
      "[name: \"/device:CPU:0\"\n",
      "device_type: \"CPU\"\n",
      "memory_limit: 268435456\n",
      "locality {\n",
      "}\n",
      "incarnation: 13646094010321245865\n",
      ", name: \"/device:GPU:0\"\n",
      "device_type: \"GPU\"\n",
      "memory_limit: 4854028697\n",
      "locality {\n",
      "  bus_id: 1\n",
      "  links {\n",
      "  }\n",
      "}\n",
      "incarnation: 12362784569915296249\n",
      "physical_device_desc: \"device: 0, name: GeForce GTX 1660 Ti, pci bus id: 0000:1f:00.0, compute capability: 7.5\"\n",
      "]\n"
     ]
    }
   ],
   "source": [
    "print(device_lib.list_local_devices())\n",
    "\n",
    "np.random.seed(3)"
   ]
  },
  {
   "cell_type": "markdown",
   "metadata": {},
   "source": [
    "## 7번 문제\n",
    "\n",
    "Q. 은하를 분류함에 있어서 RGB 조건이 반드시 반영되어야 할까?\n",
    "A. No. Edge/Smooth/Spiral 은하가 분류되는 기준은 색상이 아닌 형태이기 때문에 grayscale로도 충분히 이 형태를 구분할 수 있다.\n",
    "\n",
    "Q. 더 높은 정확도를 갖는 모델 설계하시오.\n",
    "A . 좀 더 Convolution layer를 거치면 더 중요한 feature들을 추출해 낼 수 있기 때문에 \n",
    "\n",
    "```python\n",
    "model.add(Conv2D(128,(3,3),strides=1, padding='same', activation='relu'))\n",
    "model.add(MaxPooling2D(pool_size=(2,2)))\n",
    "```\n",
    "layer를 넣어줬다. 그랬더니 Eval 결과가 70%대에서 81%로 올랐다.\n"
   ]
  },
  {
   "cell_type": "code",
   "execution_count": 7,
   "metadata": {},
   "outputs": [
    {
     "name": "stdout",
     "output_type": "stream",
     "text": [
      "Found 10233 images belonging to 3 classes.\n"
     ]
    }
   ],
   "source": [
    "train_datagen = ImageDataGenerator(rescale=1./255)\n",
    "\n",
    "train_generator = train_datagen.flow_from_directory(\n",
    "        './train_galaxy', #파일 경로\n",
    "        target_size=(50,50),\n",
    "        color_mode=\"grayscale\",\n",
    "        batch_size=32,\n",
    "        class_mode='categorical')"
   ]
  },
  {
   "cell_type": "code",
   "execution_count": 8,
   "metadata": {},
   "outputs": [
    {
     "name": "stdout",
     "output_type": "stream",
     "text": [
      "Found 600 images belonging to 3 classes.\n"
     ]
    }
   ],
   "source": [
    "val_datagen = ImageDataGenerator(rescale=1./255)\n",
    "\n",
    "val_generator = val_datagen.flow_from_directory(\n",
    "        './val_galaxy', #파일 경로\n",
    "        target_size=(50,50),\n",
    "        color_mode=\"grayscale\",\n",
    "        batch_size=32,\n",
    "        class_mode='categorical')"
   ]
  },
  {
   "cell_type": "code",
   "execution_count": 9,
   "metadata": {},
   "outputs": [
    {
     "name": "stdout",
     "output_type": "stream",
     "text": [
      "Found 600 images belonging to 3 classes.\n"
     ]
    }
   ],
   "source": [
    "test_datagen = ImageDataGenerator(rescale=1./255)\n",
    "\n",
    "test_generator = test_datagen.flow_from_directory(\n",
    "        './test_galaxy', #파일 경로\n",
    "        target_size=(50,50),\n",
    "        color_mode=\"grayscale\",\n",
    "        batch_size=32,\n",
    "        class_mode='categorical')"
   ]
  },
  {
   "cell_type": "code",
   "execution_count": 12,
   "metadata": {},
   "outputs": [
    {
     "name": "stdout",
     "output_type": "stream",
     "text": [
      "Epoch 1/50\n",
      "319/319 [==============================] - 8s 26ms/step - loss: 0.6978 - accuracy: 0.7003 - val_loss: 0.6363 - val_accuracy: 0.8203\n",
      "Epoch 2/50\n",
      "319/319 [==============================] - 8s 26ms/step - loss: 0.5350 - accuracy: 0.7839 - val_loss: 0.4845 - val_accuracy: 0.8124\n",
      "Epoch 3/50\n",
      "319/319 [==============================] - 8s 25ms/step - loss: 0.4895 - accuracy: 0.8074 - val_loss: 0.5068 - val_accuracy: 0.8225\n",
      "Epoch 4/50\n",
      "319/319 [==============================] - 8s 26ms/step - loss: 0.4531 - accuracy: 0.8204 - val_loss: 0.5902 - val_accuracy: 0.8519\n",
      "Epoch 5/50\n",
      "319/319 [==============================] - 8s 26ms/step - loss: 0.4101 - accuracy: 0.8346 - val_loss: 0.4234 - val_accuracy: 0.8388\n",
      "Epoch 6/50\n",
      "319/319 [==============================] - 9s 27ms/step - loss: 0.3770 - accuracy: 0.8516 - val_loss: 0.7007 - val_accuracy: 0.8332\n",
      "Epoch 7/50\n",
      "319/319 [==============================] - 8s 26ms/step - loss: 0.3405 - accuracy: 0.8639 - val_loss: 0.3332 - val_accuracy: 0.8259\n",
      "Epoch 8/50\n",
      "319/319 [==============================] - 8s 26ms/step - loss: 0.3071 - accuracy: 0.8781 - val_loss: 0.6300 - val_accuracy: 0.8400\n",
      "Epoch 9/50\n",
      "319/319 [==============================] - 8s 25ms/step - loss: 0.2627 - accuracy: 0.8978 - val_loss: 0.2595 - val_accuracy: 0.8207\n",
      "Epoch 10/50\n",
      "319/319 [==============================] - 8s 27ms/step - loss: 0.2359 - accuracy: 0.9068 - val_loss: 0.2114 - val_accuracy: 0.8210\n",
      "Epoch 11/50\n",
      "319/319 [==============================] - 9s 27ms/step - loss: 0.1907 - accuracy: 0.9229 - val_loss: 0.9183 - val_accuracy: 0.8195\n",
      "Epoch 12/50\n",
      "319/319 [==============================] - 8s 26ms/step - loss: 0.1597 - accuracy: 0.9397 - val_loss: 0.3922 - val_accuracy: 0.8116\n",
      "Epoch 13/50\n",
      "319/319 [==============================] - 8s 26ms/step - loss: 0.1349 - accuracy: 0.9469 - val_loss: 1.5949 - val_accuracy: 0.8168\n",
      "Epoch 14/50\n",
      "319/319 [==============================] - 9s 28ms/step - loss: 0.1094 - accuracy: 0.9585 - val_loss: 0.2303 - val_accuracy: 0.8167\n",
      "Epoch 15/50\n",
      "319/319 [==============================] - 8s 26ms/step - loss: 0.0759 - accuracy: 0.9728 - val_loss: 0.7806 - val_accuracy: 0.8019\n",
      "Epoch 16/50\n",
      "319/319 [==============================] - 9s 27ms/step - loss: 0.0606 - accuracy: 0.9795 - val_loss: 0.9804 - val_accuracy: 0.8387\n",
      "Epoch 17/50\n",
      "319/319 [==============================] - 8s 26ms/step - loss: 0.0661 - accuracy: 0.9769 - val_loss: 1.6226 - val_accuracy: 0.8002\n",
      "Epoch 18/50\n",
      "319/319 [==============================] - 8s 26ms/step - loss: 0.0641 - accuracy: 0.9794 - val_loss: 1.1753 - val_accuracy: 0.7885\n",
      "Epoch 19/50\n",
      "319/319 [==============================] - 8s 26ms/step - loss: 0.0469 - accuracy: 0.9849 - val_loss: 0.3818 - val_accuracy: 0.7912\n",
      "Epoch 20/50\n",
      "319/319 [==============================] - 8s 26ms/step - loss: 0.0350 - accuracy: 0.9894 - val_loss: 3.5185 - val_accuracy: 0.8100\n",
      "Epoch 21/50\n",
      "319/319 [==============================] - 8s 26ms/step - loss: 0.0250 - accuracy: 0.9913 - val_loss: 1.3824 - val_accuracy: 0.8178\n",
      "Epoch 22/50\n",
      "319/319 [==============================] - 8s 26ms/step - loss: 0.0287 - accuracy: 0.9925 - val_loss: 1.8086 - val_accuracy: 0.8179\n",
      "Epoch 23/50\n",
      "319/319 [==============================] - 9s 27ms/step - loss: 0.0581 - accuracy: 0.9792 - val_loss: 1.5836 - val_accuracy: 0.8045\n",
      "Epoch 24/50\n",
      "319/319 [==============================] - 8s 26ms/step - loss: 0.0164 - accuracy: 0.9946 - val_loss: 1.0230 - val_accuracy: 0.8340\n",
      "Epoch 25/50\n",
      "319/319 [==============================] - 8s 26ms/step - loss: 0.0056 - accuracy: 0.9988 - val_loss: 1.4428 - val_accuracy: 0.8029\n",
      "Epoch 26/50\n",
      "319/319 [==============================] - 8s 26ms/step - loss: 0.0354 - accuracy: 0.9876 - val_loss: 3.0706 - val_accuracy: 0.7609\n",
      "Epoch 27/50\n",
      "319/319 [==============================] - 8s 26ms/step - loss: 0.0535 - accuracy: 0.9835 - val_loss: 1.6033 - val_accuracy: 0.7904\n",
      "Epoch 28/50\n",
      "319/319 [==============================] - 8s 25ms/step - loss: 0.0310 - accuracy: 0.9923 - val_loss: 1.0627 - val_accuracy: 0.8000\n",
      "Epoch 29/50\n",
      "319/319 [==============================] - 8s 26ms/step - loss: 0.0254 - accuracy: 0.9929 - val_loss: 0.4013 - val_accuracy: 0.8138\n",
      "Epoch 30/50\n",
      "319/319 [==============================] - 8s 26ms/step - loss: 0.0371 - accuracy: 0.9898 - val_loss: 1.0024 - val_accuracy: 0.8033 0s - loss: 0.0359 - accuracy\n",
      "Epoch 31/50\n",
      "319/319 [==============================] - 8s 27ms/step - loss: 0.0091 - accuracy: 0.9973 - val_loss: 3.0972 - val_accuracy: 0.8029\n",
      "Epoch 32/50\n",
      "319/319 [==============================] - 8s 26ms/step - loss: 7.1402e-04 - accuracy: 1.0000 - val_loss: 2.2730 - val_accuracy: 0.8093\n",
      "Epoch 33/50\n",
      "319/319 [==============================] - 8s 26ms/step - loss: 2.4551e-04 - accuracy: 1.0000 - val_loss: 1.9854 - val_accuracy: 0.8085\n",
      "Epoch 34/50\n",
      "319/319 [==============================] - 8s 25ms/step - loss: 1.5146e-04 - accuracy: 1.0000 - val_loss: 0.6068 - val_accuracy: 0.8101\n",
      "Epoch 35/50\n",
      "319/319 [==============================] - 8s 26ms/step - loss: 9.9894e-05 - accuracy: 1.0000 - val_loss: 0.7194 - val_accuracy: 0.8078\n",
      "Epoch 36/50\n",
      "319/319 [==============================] - 8s 26ms/step - loss: 6.4891e-05 - accuracy: 1.0000 - val_loss: 1.6670 - val_accuracy: 0.8063\n",
      "Epoch 37/50\n",
      "319/319 [==============================] - 8s 27ms/step - loss: 4.2814e-05 - accuracy: 1.0000 - val_loss: 0.9115 - val_accuracy: 0.8056\n",
      "Epoch 38/50\n",
      "319/319 [==============================] - 9s 27ms/step - loss: 3.6402e-05 - accuracy: 1.0000 - val_loss: 1.9100 - val_accuracy: 0.8059\n",
      "Epoch 39/50\n",
      "319/319 [==============================] - 8s 26ms/step - loss: 2.6590e-05 - accuracy: 1.0000 - val_loss: 1.0661 - val_accuracy: 0.8054\n",
      "Epoch 40/50\n",
      "319/319 [==============================] - 8s 26ms/step - loss: 2.2413e-05 - accuracy: 1.0000 - val_loss: 1.2118 - val_accuracy: 0.8129\n",
      "Epoch 41/50\n",
      "319/319 [==============================] - 8s 25ms/step - loss: 1.7062e-05 - accuracy: 1.0000 - val_loss: 1.7093 - val_accuracy: 0.8093\n",
      "Epoch 42/50\n",
      "319/319 [==============================] - 8s 26ms/step - loss: 1.4206e-05 - accuracy: 1.0000 - val_loss: 2.2001 - val_accuracy: 0.8053\n",
      "Epoch 43/50\n",
      "319/319 [==============================] - 8s 25ms/step - loss: 1.1314e-05 - accuracy: 1.0000 - val_loss: 2.6581 - val_accuracy: 0.8082\n",
      "Epoch 44/50\n",
      "319/319 [==============================] - 8s 26ms/step - loss: 9.6953e-06 - accuracy: 1.0000 - val_loss: 4.1414 - val_accuracy: 0.8080\n",
      "Epoch 45/50\n",
      "319/319 [==============================] - 8s 26ms/step - loss: 8.0998e-06 - accuracy: 1.0000 - val_loss: 3.6979 - val_accuracy: 0.8142\n",
      "Epoch 46/50\n",
      "319/319 [==============================] - 8s 26ms/step - loss: 6.8079e-06 - accuracy: 1.0000 - val_loss: 2.6673 - val_accuracy: 0.8118\n",
      "Epoch 47/50\n",
      "319/319 [==============================] - 8s 26ms/step - loss: 5.5843e-06 - accuracy: 1.0000 - val_loss: 1.0979 - val_accuracy: 0.8108\n",
      "Epoch 48/50\n",
      "319/319 [==============================] - 8s 26ms/step - loss: 5.0374e-06 - accuracy: 1.0000 - val_loss: 5.3837 - val_accuracy: 0.8088\n",
      "Epoch 49/50\n",
      "319/319 [==============================] - 8s 26ms/step - loss: 3.9930e-06 - accuracy: 1.0000 - val_loss: 0.5600 - val_accuracy: 0.8117\n",
      "Epoch 50/50\n",
      "319/319 [==============================] - 8s 26ms/step - loss: 3.4807e-06 - accuracy: 1.0000 - val_loss: 2.3796 - val_accuracy: 0.8100\n"
     ]
    }
   ],
   "source": [
    "with K.tf.device('/gpu:0'):\n",
    "    model = Sequential()\n",
    "    model.add(Conv2D(32, kernel_size=(3,3), activation='relu', input_shape=(50,50,3)))\n",
    "    model.add(MaxPooling2D(pool_size=(2,2)))\n",
    "    model.add(Conv2D(128,(3,3),strides=1, padding='same', activation='relu'))\n",
    "    model.add(MaxPooling2D(pool_size=(2,2)))\n",
    "    model.add(Conv2D(64,(3,3), activation='relu'))\n",
    "    model.add(Flatten())\n",
    "    model.add(Dense(128, activation='relu'))\n",
    "    model.add(Dense(3, activation='softmax'))\n",
    "    \n",
    "    model.compile(loss='categorical_crossentropy', optimizer='adam', metrics=['accuracy'])\n",
    "    \n",
    "    hist=model.fit_generator(\n",
    "        train_generator,\n",
    "        steps_per_epoch=319, \n",
    "        epochs=50,\n",
    "        validation_data=val_generator,\n",
    "        validation_steps=200)  "
   ]
  },
  {
   "cell_type": "code",
   "execution_count": 13,
   "metadata": {},
   "outputs": [
    {
     "name": "stdout",
     "output_type": "stream",
     "text": [
      "--Evaluate--\n",
      "accuracy: 81.19%\n"
     ]
    }
   ],
   "source": [
    "print(\"--Evaluate--\")\n",
    "scores = model.evaluate_generator(test_generator, steps=200)\n",
    "print(\"%s: %.2f%%\" % (model.metrics_names[1], scores[1]*100))"
   ]
  },
  {
   "cell_type": "code",
   "execution_count": null,
   "metadata": {},
   "outputs": [],
   "source": []
  }
 ],
 "metadata": {
  "file_extension": ".py",
  "kernelspec": {
   "display_name": "dafit",
   "language": "python",
   "name": "dafit"
  },
  "language_info": {
   "codemirror_mode": {
    "name": "ipython",
    "version": 3
   },
   "file_extension": ".py",
   "mimetype": "text/x-python",
   "name": "python",
   "nbconvert_exporter": "python",
   "pygments_lexer": "ipython3",
   "version": "3.7.4"
  },
  "mimetype": "text/x-python",
  "name": "python",
  "npconvert_exporter": "python",
  "pygments_lexer": "ipython3",
  "version": 3
 },
 "nbformat": 4,
 "nbformat_minor": 4
}
