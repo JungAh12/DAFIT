{
 "cells": [
  {
   "cell_type": "code",
   "execution_count": 16,
   "metadata": {},
   "outputs": [],
   "source": [
    "import numpy as np\n",
    "from keras.models import Sequential\n",
    "from keras.layers import Dense\n",
    "from keras.layers import Flatten\n",
    "from keras.layers import Dropout\n",
    "from keras.layers import BatchNormalization\n",
    "from keras.layers import Activation\n",
    "from keras.layers.convolutional import Conv2D\n",
    "from keras.layers.convolutional import MaxPooling2D\n",
    "from keras.layers.convolutional import ZeroPadding2D\n",
    "from keras.optimizers import SGD\n",
    "from keras.utils import np_utils\n",
    "from keras.preprocessing.image import ImageDataGenerator\n",
    "from keras.models import load_model\n"
   ]
  },
  {
   "cell_type": "code",
   "execution_count": 17,
   "metadata": {},
   "outputs": [
    {
     "name": "stdout",
     "output_type": "stream",
     "text": [
      "[name: \"/device:CPU:0\"\n",
      "device_type: \"CPU\"\n",
      "memory_limit: 268435456\n",
      "locality {\n",
      "}\n",
      "incarnation: 17577066728645420498\n",
      ", name: \"/device:GPU:0\"\n",
      "device_type: \"GPU\"\n",
      "memory_limit: 4854028697\n",
      "locality {\n",
      "  bus_id: 1\n",
      "  links {\n",
      "  }\n",
      "}\n",
      "incarnation: 17548956495295955082\n",
      "physical_device_desc: \"device: 0, name: GeForce GTX 1660 Ti, pci bus id: 0000:1f:00.0, compute capability: 7.5\"\n",
      "]\n"
     ]
    }
   ],
   "source": [
    "print(device_lib.list_local_devices())\n",
    "\n",
    "np.random.seed(3)"
   ]
  },
  {
   "cell_type": "markdown",
   "metadata": {},
   "source": [
    "## 8번 문제\n",
    "\n",
    "AlexNet 사용해서 정답률을 높였다.\n",
    "overfitting 막기 위해 dropout을 사용하였다.\n",
    "또한 기존 CNN보다 훨씬 더 깊게 레이어를 둬서 더 중요한 feature들을 추출해낸다.\n",
    "\n"
   ]
  },
  {
   "cell_type": "code",
   "execution_count": 23,
   "metadata": {},
   "outputs": [
    {
     "name": "stdout",
     "output_type": "stream",
     "text": [
      "Found 10233 images belonging to 3 classes.\n"
     ]
    }
   ],
   "source": [
    "train_datagen = ImageDataGenerator(rescale=1./255)\n",
    "\n",
    "train_generator = train_datagen.flow_from_directory(\n",
    "        './train_galaxy', #파일 경로\n",
    "        target_size=(50,50),\n",
    "        color_mode=\"grayscale\",\n",
    "        batch_size=32,\n",
    "        class_mode='categorical')"
   ]
  },
  {
   "cell_type": "code",
   "execution_count": 24,
   "metadata": {},
   "outputs": [
    {
     "name": "stdout",
     "output_type": "stream",
     "text": [
      "Found 600 images belonging to 3 classes.\n"
     ]
    }
   ],
   "source": [
    "val_datagen = ImageDataGenerator(rescale=1./255)\n",
    "\n",
    "val_generator = val_datagen.flow_from_directory(\n",
    "        './val_galaxy', #파일 경로\n",
    "        target_size=(50,50),\n",
    "        color_mode=\"grayscale\",\n",
    "        batch_size=32,\n",
    "        class_mode='categorical')"
   ]
  },
  {
   "cell_type": "code",
   "execution_count": 25,
   "metadata": {},
   "outputs": [
    {
     "name": "stdout",
     "output_type": "stream",
     "text": [
      "Found 600 images belonging to 3 classes.\n"
     ]
    }
   ],
   "source": [
    "test_datagen = ImageDataGenerator(rescale=1./255)\n",
    "\n",
    "test_generator = test_datagen.flow_from_directory(\n",
    "        './test_galaxy', #파일 경로\n",
    "        target_size=(50,50),\n",
    "        color_mode=\"grayscale\",\n",
    "        batch_size=32,\n",
    "        class_mode='categorical')"
   ]
  },
  {
   "cell_type": "code",
   "execution_count": 28,
   "metadata": {},
   "outputs": [
    {
     "name": "stdout",
     "output_type": "stream",
     "text": [
      "Model: \"sequential_8\"\n",
      "_________________________________________________________________\n",
      "Layer (type)                 Output Shape              Param #   \n",
      "=================================================================\n",
      "conv2d_34 (Conv2D)           (None, 10, 10, 96)        11712     \n",
      "_________________________________________________________________\n",
      "max_pooling2d_19 (MaxPooling (None, 5, 5, 96)          0         \n",
      "_________________________________________________________________\n",
      "batch_normalization_10 (Batc (None, 5, 5, 96)          384       \n",
      "_________________________________________________________________\n",
      "zero_padding2d_17 (ZeroPaddi (None, 9, 9, 96)          0         \n",
      "_________________________________________________________________\n",
      "conv2d_35 (Conv2D)           (None, 5, 5, 256)         614656    \n",
      "_________________________________________________________________\n",
      "max_pooling2d_20 (MaxPooling (None, 2, 2, 256)         0         \n",
      "_________________________________________________________________\n",
      "batch_normalization_11 (Batc (None, 2, 2, 256)         1024      \n",
      "_________________________________________________________________\n",
      "zero_padding2d_18 (ZeroPaddi (None, 4, 4, 256)         0         \n",
      "_________________________________________________________________\n",
      "conv2d_36 (Conv2D)           (None, 2, 2, 384)         885120    \n",
      "_________________________________________________________________\n",
      "zero_padding2d_19 (ZeroPaddi (None, 4, 4, 384)         0         \n",
      "_________________________________________________________________\n",
      "conv2d_37 (Conv2D)           (None, 2, 2, 384)         1327488   \n",
      "_________________________________________________________________\n",
      "zero_padding2d_20 (ZeroPaddi (None, 4, 4, 384)         0         \n",
      "_________________________________________________________________\n",
      "conv2d_38 (Conv2D)           (None, 2, 2, 256)         884992    \n",
      "_________________________________________________________________\n",
      "max_pooling2d_21 (MaxPooling (None, 1, 1, 256)         0         \n",
      "_________________________________________________________________\n",
      "flatten_4 (Flatten)          (None, 256)               0         \n",
      "_________________________________________________________________\n",
      "dense_11 (Dense)             (None, 4096)              1052672   \n",
      "_________________________________________________________________\n",
      "dropout_5 (Dropout)          (None, 4096)              0         \n",
      "_________________________________________________________________\n",
      "dense_12 (Dense)             (None, 4096)              16781312  \n",
      "_________________________________________________________________\n",
      "dropout_6 (Dropout)          (None, 4096)              0         \n",
      "_________________________________________________________________\n",
      "dense_13 (Dense)             (None, 3)                 12291     \n",
      "=================================================================\n",
      "Total params: 21,571,651\n",
      "Trainable params: 21,570,947\n",
      "Non-trainable params: 704\n",
      "_________________________________________________________________\n",
      "Epoch 1/50\n",
      "319/319 [==============================] - 7s 22ms/step - loss: 0.5970 - accuracy: 0.6754 - val_loss: 0.6479 - val_accuracy: 0.6667\n",
      "Epoch 2/50\n",
      "319/319 [==============================] - 6s 19ms/step - loss: 0.4551 - accuracy: 0.7877 - val_loss: 0.4970 - val_accuracy: 0.7964\n",
      "Epoch 3/50\n",
      "319/319 [==============================] - 6s 19ms/step - loss: 0.3735 - accuracy: 0.8377 - val_loss: 0.3587 - val_accuracy: 0.8703\n",
      "Epoch 4/50\n",
      "319/319 [==============================] - 6s 19ms/step - loss: 0.3513 - accuracy: 0.8493 - val_loss: 0.2939 - val_accuracy: 0.8732\n",
      "Epoch 5/50\n",
      "319/319 [==============================] - 6s 18ms/step - loss: 0.3385 - accuracy: 0.8556 - val_loss: 0.2595 - val_accuracy: 0.8756\n",
      "Epoch 6/50\n",
      "319/319 [==============================] - 6s 19ms/step - loss: 0.3232 - accuracy: 0.8630 - val_loss: 0.4122 - val_accuracy: 0.8867\n",
      "Epoch 7/50\n",
      "319/319 [==============================] - 6s 18ms/step - loss: 0.3148 - accuracy: 0.8673 - val_loss: 0.3953 - val_accuracy: 0.8638\n",
      "Epoch 8/50\n",
      "319/319 [==============================] - 6s 18ms/step - loss: 0.3000 - accuracy: 0.8754 - val_loss: 0.3021 - val_accuracy: 0.8644\n",
      "Epoch 9/50\n",
      "319/319 [==============================] - 6s 19ms/step - loss: 0.2912 - accuracy: 0.8810 - val_loss: 0.3612 - val_accuracy: 0.8011\n",
      "Epoch 10/50\n",
      "319/319 [==============================] - 6s 19ms/step - loss: 0.2812 - accuracy: 0.8846 - val_loss: 0.2474 - val_accuracy: 0.8691\n",
      "Epoch 11/50\n",
      "319/319 [==============================] - 6s 19ms/step - loss: 0.2711 - accuracy: 0.8886 - val_loss: 0.3433 - val_accuracy: 0.8292\n",
      "Epoch 12/50\n",
      "319/319 [==============================] - 6s 18ms/step - loss: 0.2652 - accuracy: 0.8919 - val_loss: 0.3132 - val_accuracy: 0.8732\n",
      "Epoch 13/50\n",
      "319/319 [==============================] - 6s 18ms/step - loss: 0.2501 - accuracy: 0.8982 - val_loss: 0.1614 - val_accuracy: 0.9014\n",
      "Epoch 14/50\n",
      "319/319 [==============================] - 6s 18ms/step - loss: 0.2440 - accuracy: 0.9027 - val_loss: 0.4609 - val_accuracy: 0.8791\n",
      "Epoch 15/50\n",
      "319/319 [==============================] - 6s 18ms/step - loss: 0.2319 - accuracy: 0.9079 - val_loss: 0.4915 - val_accuracy: 0.8703\n",
      "Epoch 16/50\n",
      "319/319 [==============================] - 6s 18ms/step - loss: 0.2183 - accuracy: 0.9145 - val_loss: 0.6469 - val_accuracy: 0.8844\n",
      "Epoch 17/50\n",
      "319/319 [==============================] - 6s 18ms/step - loss: 0.2111 - accuracy: 0.9155 - val_loss: 0.3492 - val_accuracy: 0.8680\n",
      "Epoch 18/50\n",
      "319/319 [==============================] - 6s 18ms/step - loss: 0.2023 - accuracy: 0.9202 - val_loss: 0.5661 - val_accuracy: 0.8533\n",
      "Epoch 19/50\n",
      "319/319 [==============================] - 6s 18ms/step - loss: 0.1924 - accuracy: 0.9236 - val_loss: 0.6886 - val_accuracy: 0.8633\n",
      "Epoch 20/50\n",
      "319/319 [==============================] - 6s 18ms/step - loss: 0.1841 - accuracy: 0.9276 - val_loss: 0.4959 - val_accuracy: 0.8634\n",
      "Epoch 21/50\n",
      "319/319 [==============================] - 6s 19ms/step - loss: 0.1740 - accuracy: 0.9314 - val_loss: 0.3190 - val_accuracy: 0.8738\n",
      "Epoch 22/50\n",
      "319/319 [==============================] - 6s 19ms/step - loss: 0.1682 - accuracy: 0.9352 - val_loss: 0.2537 - val_accuracy: 0.8603\n",
      "Epoch 23/50\n",
      "319/319 [==============================] - 6s 19ms/step - loss: 0.1560 - accuracy: 0.9396 - val_loss: 0.3557 - val_accuracy: 0.8550\n",
      "Epoch 24/50\n",
      "319/319 [==============================] - 6s 18ms/step - loss: 0.1444 - accuracy: 0.9436 - val_loss: 0.2938 - val_accuracy: 0.8826\n",
      "Epoch 25/50\n",
      "319/319 [==============================] - 6s 19ms/step - loss: 0.1389 - accuracy: 0.9467 - val_loss: 0.5232 - val_accuracy: 0.8550\n",
      "Epoch 26/50\n",
      "319/319 [==============================] - 6s 19ms/step - loss: 0.1309 - accuracy: 0.9502 - val_loss: 0.2328 - val_accuracy: 0.8803\n",
      "Epoch 27/50\n",
      "319/319 [==============================] - 6s 18ms/step - loss: 0.1236 - accuracy: 0.9527 - val_loss: 0.4565 - val_accuracy: 0.8938\n",
      "Epoch 28/50\n",
      "319/319 [==============================] - 6s 18ms/step - loss: 0.1184 - accuracy: 0.9539 - val_loss: 0.2322 - val_accuracy: 0.8750\n",
      "Epoch 29/50\n",
      "319/319 [==============================] - 6s 18ms/step - loss: 0.1072 - accuracy: 0.9599 - val_loss: 0.6395 - val_accuracy: 0.8685\n",
      "Epoch 30/50\n",
      "319/319 [==============================] - 6s 18ms/step - loss: 0.1045 - accuracy: 0.9588 - val_loss: 0.8604 - val_accuracy: 0.8803\n",
      "Epoch 31/50\n",
      "319/319 [==============================] - 6s 18ms/step - loss: 0.0973 - accuracy: 0.9619 - val_loss: 0.2987 - val_accuracy: 0.8592\n",
      "Epoch 32/50\n",
      "319/319 [==============================] - 6s 19ms/step - loss: 0.0855 - accuracy: 0.9669 - val_loss: 0.3384 - val_accuracy: 0.8609\n",
      "Epoch 33/50\n",
      "319/319 [==============================] - 6s 19ms/step - loss: 0.0867 - accuracy: 0.9665 - val_loss: 0.6242 - val_accuracy: 0.8797\n",
      "Epoch 34/50\n",
      "319/319 [==============================] - 6s 18ms/step - loss: 0.0707 - accuracy: 0.9730 - val_loss: 0.2829 - val_accuracy: 0.8427\n",
      "Epoch 35/50\n",
      "319/319 [==============================] - 6s 18ms/step - loss: 0.0831 - accuracy: 0.9683 - val_loss: 0.5263 - val_accuracy: 0.8744\n",
      "Epoch 36/50\n",
      "319/319 [==============================] - 6s 18ms/step - loss: 0.0715 - accuracy: 0.9736 - val_loss: 0.1146 - val_accuracy: 0.8815\n",
      "Epoch 37/50\n",
      "319/319 [==============================] - 6s 18ms/step - loss: 0.0772 - accuracy: 0.9699 - val_loss: 0.7673 - val_accuracy: 0.8187\n",
      "Epoch 38/50\n",
      "319/319 [==============================] - 6s 18ms/step - loss: 0.0718 - accuracy: 0.9724 - val_loss: 0.2538 - val_accuracy: 0.8732\n",
      "Epoch 39/50\n",
      "319/319 [==============================] - 6s 18ms/step - loss: 0.0579 - accuracy: 0.9788 - val_loss: 0.8585 - val_accuracy: 0.8721\n",
      "Epoch 40/50\n",
      "319/319 [==============================] - 6s 19ms/step - loss: 0.0542 - accuracy: 0.9792 - val_loss: 0.9224 - val_accuracy: 0.8668\n",
      "Epoch 41/50\n",
      "319/319 [==============================] - 6s 18ms/step - loss: 0.0456 - accuracy: 0.9837 - val_loss: 1.1435 - val_accuracy: 0.8515\n",
      "Epoch 42/50\n",
      "319/319 [==============================] - 6s 18ms/step - loss: 0.0458 - accuracy: 0.9823 - val_loss: 0.5167 - val_accuracy: 0.8832\n",
      "Epoch 43/50\n",
      "319/319 [==============================] - 6s 19ms/step - loss: 0.0609 - accuracy: 0.9772 - val_loss: 0.7491 - val_accuracy: 0.8914\n",
      "Epoch 44/50\n",
      "319/319 [==============================] - 6s 18ms/step - loss: 0.0381 - accuracy: 0.9866 - val_loss: 0.4821 - val_accuracy: 0.8756\n",
      "Epoch 45/50\n",
      "319/319 [==============================] - 6s 19ms/step - loss: 0.0323 - accuracy: 0.9889 - val_loss: 0.9958 - val_accuracy: 0.8674\n",
      "Epoch 46/50\n",
      "319/319 [==============================] - 6s 18ms/step - loss: 0.0427 - accuracy: 0.9841 - val_loss: 0.3873 - val_accuracy: 0.8809\n",
      "Epoch 47/50\n",
      "319/319 [==============================] - 6s 18ms/step - loss: 0.0258 - accuracy: 0.9907 - val_loss: 1.2412 - val_accuracy: 0.8768\n",
      "Epoch 48/50\n",
      "319/319 [==============================] - 6s 18ms/step - loss: 0.0457 - accuracy: 0.9840 - val_loss: 1.1398 - val_accuracy: 0.8310\n",
      "Epoch 49/50\n",
      "319/319 [==============================] - 6s 18ms/step - loss: 0.0334 - accuracy: 0.9875 - val_loss: 1.0595 - val_accuracy: 0.8603\n",
      "Epoch 50/50\n",
      "319/319 [==============================] - 6s 18ms/step - loss: 0.0295 - accuracy: 0.9901 - val_loss: 0.2462 - val_accuracy: 0.8944\n"
     ]
    }
   ],
   "source": [
    "with K.tf.device('/gpu:0'):\n",
    "    model = Sequential()\n",
    "    #Alexnet - 계층 1 : 11x11 필터를 96개를 사용, strides = 4, 활화화함수 = relu,\n",
    "    # 입력 데이터 크기 224x224 , 3x3 크기의 풀리계층 사용\n",
    "\n",
    "    model.add(Conv2D(96, (11,11), strides=4, input_shape=(50,50,1), activation='relu'))\n",
    "    model.add(MaxPooling2D(pool_size=(2,2),strides=2))\n",
    "    model.add(BatchNormalization())\n",
    "\n",
    "    #Alexnet - 계층 2 : 5X5 필터를 256개 사용 , strides = 1, 활화화함수 = relu, 3x3 크기의 풀리계층 사용\n",
    "    model.add(ZeroPadding2D(2))\n",
    "    model.add(Conv2D(256,(5,5), strides=1, activation='relu'))\n",
    "\n",
    "    model.add(MaxPooling2D(pool_size=(2,2),strides=2))\n",
    "    model.add(BatchNormalization())\n",
    "\n",
    "    #Alexnet - 계층 3 : 3x3 필터를 384개 사용, strides =1 , 활성화함수 = relu\n",
    "    model.add(ZeroPadding2D(1))\n",
    "    model.add(Conv2D(384,(3,3), strides=1, activation='relu'))\n",
    "\n",
    "\n",
    "    #Alexnet - 계층 4 : 3x3 필터를 384개 사용, strides =1 , 활성화함수 = relu\n",
    "    model.add(ZeroPadding2D(1))\n",
    "    model.add(Conv2D(384,(3,3), strides=1, activation='relu'))\n",
    "\n",
    "\n",
    "    #Alexnet - 계층 5 : 3x3 필터를 256개 사용, strides =1 , 활성화함수 = relu, 3x3 크기의 풀리계층 사용\n",
    "    model.add(ZeroPadding2D(1))\n",
    "    model.add(Conv2D(256,(3,3), strides=1, activation='relu'))\n",
    "    model.add(MaxPooling2D(pool_size=(2,2), strides=2))\n",
    "\n",
    "    #계산을 위해서 1차원 배열로 전환\n",
    "    model.add(Flatten())\n",
    "\n",
    "    #Alexnet - 계층 6 : 4096개의 출력뉴런, 활성화함수 = relu\n",
    "    model.add(Dense(4096, activation='relu'))\n",
    "    model.add(Dropout(0.5))\n",
    "\n",
    "    #Alexnet - 계층 7 : 4096게의 출력뉴런, 활성화함수 = relu\n",
    "    model.add(Dense(4096, activation='relu'))\n",
    "    model.add(Dropout(0.5))\n",
    "\n",
    "    #Alexnet - 계층 8 : 1개의 출력뉴런, 활성화함수 = sigmoid\n",
    "    model.add(Dense(3, activation='sigmoid'))\n",
    "\n",
    "    #학습과정 설정 - 손실함수는 크로스엔트로피, 가중치 검색은 아담\n",
    "    sgd = SGD(lr=0.01,decay=5e-4, momentum=0.9)\n",
    "    model.compile(loss='binary_crossentropy', optimizer='sgd',metrics=['accuracy'])\n",
    "\n",
    "    model.summary()\n",
    "\n",
    "    hist=model.fit_generator(\n",
    "        train_generator,\n",
    "        steps_per_epoch=319, \n",
    "        epochs=50,\n",
    "        validation_data=val_generator,\n",
    "        validation_steps=18)  "
   ]
  },
  {
   "cell_type": "code",
   "execution_count": 29,
   "metadata": {},
   "outputs": [
    {
     "name": "stdout",
     "output_type": "stream",
     "text": [
      "--Evaluate--\n",
      "accuracy: 87.95%\n"
     ]
    }
   ],
   "source": [
    "print(\"--Evaluate--\")\n",
    "scores = model.evaluate_generator(test_generator, steps=200)\n",
    "print(\"%s: %.2f%%\" % (model.metrics_names[1], scores[1]*100))"
   ]
  },
  {
   "cell_type": "code",
   "execution_count": null,
   "metadata": {},
   "outputs": [],
   "source": []
  }
 ],
 "metadata": {
  "file_extension": ".py",
  "kernelspec": {
   "display_name": "dafit",
   "language": "python",
   "name": "dafit"
  },
  "language_info": {
   "codemirror_mode": {
    "name": "ipython",
    "version": 3
   },
   "file_extension": ".py",
   "mimetype": "text/x-python",
   "name": "python",
   "nbconvert_exporter": "python",
   "pygments_lexer": "ipython3",
   "version": "3.7.4"
  },
  "mimetype": "text/x-python",
  "name": "python",
  "npconvert_exporter": "python",
  "pygments_lexer": "ipython3",
  "version": 3
 },
 "nbformat": 4,
 "nbformat_minor": 4
}
